{
  "cells": [
    {
      "cell_type": "markdown",
      "metadata": {
        "id": "thOKpwcM8_za"
      },
      "source": [
        "# Boiling Point of Compounds\n",
        "Based on:\n",
        " 1. S.-Y. Kim, I. Jeon and S.-J. Kang, \"Integrating Data Science and Machine Learning to Chemistry Education: Predicting Classification and Boiling Point of Compounds\", J. Chem. Educ., 101, 1771–1776 (2024). [doi:10.1021/acs.jchemed.3c01040](doi.org/10.1021/acs.jchemed.3c01040)\n"
      ]
    },
    {
      "cell_type": "code",
      "execution_count": 1,
      "metadata": {
        "id": "QMCXVXDE8_zj"
      },
      "outputs": [],
      "source": [
        "from pylab import *\n",
        "import pandas as pd\n",
        "import sklearn"
      ]
    },
    {
      "cell_type": "markdown",
      "metadata": {
        "id": "Aoy2Hv6j8_zn"
      },
      "source": [
        "## Functions"
      ]
    },
    {
      "cell_type": "code",
      "execution_count": null,
      "metadata": {
        "id": "c7t995EI8_zo"
      },
      "outputs": [],
      "source": [
        "def plot_fun(bps, bp_predictions, t=None):\n",
        "    plot(bps, bp_predictions,'o')\n",
        "    plot(bps,bps)\n",
        "    axis('square')\n",
        "    xlabel('Boiling Point')\n",
        "    ylabel('Predicted Boiling Point')\n",
        "    title(t)\n",
        "    show()"
      ]
    },
    {
      "cell_type": "markdown",
      "metadata": {
        "id": "iIfL7lBm8_zp"
      },
      "source": [
        "## Import data"
      ]
    },
    {
      "cell_type": "code",
      "execution_count": 4,
      "metadata": {
        "id": "JaFm2eWo8_zq",
        "outputId": "4abcd03f-2a00-4cd4-aecc-4acd7e7dcd10",
        "colab": {
          "base_uri": "https://localhost:8080/",
          "height": 287
        }
      },
      "outputs": [
        {
          "output_type": "execute_result",
          "data": {
            "text/plain": [
              "          cmpdname  BoilingPoint       mw       mf  polararea  heavycnt  \\\n",
              "0  Ethylene Glycol        470.65   62.070   C2H6O2       40.5         4   \n",
              "1   2,3-Butanediol        455.15   90.120  C4H10O2       40.5         6   \n",
              "2        1-Butanol        390.75   74.120   C4H10O       20.2         5   \n",
              "3          Methane        111.65   16.043      CH4        0.0         1   \n",
              "4           Octane        398.77  114.230    C8H18        0.0         8   \n",
              "\n",
              "   hbondacc   isosmiles  C number  N number  O number  Side chain number  \\\n",
              "0         2      C(CO)O         2         0         2                  1   \n",
              "1         2  CC(C(C)O)O         4         0         2                  2   \n",
              "2         1       CCCCO         4         0         1                  0   \n",
              "3         0           C         1         0         0                  0   \n",
              "4         0    CCCCCCCC         8         0         0                  0   \n",
              "\n",
              "   Double bond number  Triple bond number    Classify1  \n",
              "0                   0                   0      Alcohol  \n",
              "1                   0                   0      Alcohol  \n",
              "2                   0                   0      Alcohol  \n",
              "3                   0                   0  Hydrocarbon  \n",
              "4                   0                   0  Hydrocarbon  "
            ],
            "text/html": [
              "\n",
              "  <div id=\"df-07cf9723-a757-48d6-a2a2-fee91ef3cd05\" class=\"colab-df-container\">\n",
              "    <div>\n",
              "<style scoped>\n",
              "    .dataframe tbody tr th:only-of-type {\n",
              "        vertical-align: middle;\n",
              "    }\n",
              "\n",
              "    .dataframe tbody tr th {\n",
              "        vertical-align: top;\n",
              "    }\n",
              "\n",
              "    .dataframe thead th {\n",
              "        text-align: right;\n",
              "    }\n",
              "</style>\n",
              "<table border=\"1\" class=\"dataframe\">\n",
              "  <thead>\n",
              "    <tr style=\"text-align: right;\">\n",
              "      <th></th>\n",
              "      <th>cmpdname</th>\n",
              "      <th>BoilingPoint</th>\n",
              "      <th>mw</th>\n",
              "      <th>mf</th>\n",
              "      <th>polararea</th>\n",
              "      <th>heavycnt</th>\n",
              "      <th>hbondacc</th>\n",
              "      <th>isosmiles</th>\n",
              "      <th>C number</th>\n",
              "      <th>N number</th>\n",
              "      <th>O number</th>\n",
              "      <th>Side chain number</th>\n",
              "      <th>Double bond number</th>\n",
              "      <th>Triple bond number</th>\n",
              "      <th>Classify1</th>\n",
              "    </tr>\n",
              "  </thead>\n",
              "  <tbody>\n",
              "    <tr>\n",
              "      <th>0</th>\n",
              "      <td>Ethylene Glycol</td>\n",
              "      <td>470.65</td>\n",
              "      <td>62.070</td>\n",
              "      <td>C2H6O2</td>\n",
              "      <td>40.5</td>\n",
              "      <td>4</td>\n",
              "      <td>2</td>\n",
              "      <td>C(CO)O</td>\n",
              "      <td>2</td>\n",
              "      <td>0</td>\n",
              "      <td>2</td>\n",
              "      <td>1</td>\n",
              "      <td>0</td>\n",
              "      <td>0</td>\n",
              "      <td>Alcohol</td>\n",
              "    </tr>\n",
              "    <tr>\n",
              "      <th>1</th>\n",
              "      <td>2,3-Butanediol</td>\n",
              "      <td>455.15</td>\n",
              "      <td>90.120</td>\n",
              "      <td>C4H10O2</td>\n",
              "      <td>40.5</td>\n",
              "      <td>6</td>\n",
              "      <td>2</td>\n",
              "      <td>CC(C(C)O)O</td>\n",
              "      <td>4</td>\n",
              "      <td>0</td>\n",
              "      <td>2</td>\n",
              "      <td>2</td>\n",
              "      <td>0</td>\n",
              "      <td>0</td>\n",
              "      <td>Alcohol</td>\n",
              "    </tr>\n",
              "    <tr>\n",
              "      <th>2</th>\n",
              "      <td>1-Butanol</td>\n",
              "      <td>390.75</td>\n",
              "      <td>74.120</td>\n",
              "      <td>C4H10O</td>\n",
              "      <td>20.2</td>\n",
              "      <td>5</td>\n",
              "      <td>1</td>\n",
              "      <td>CCCCO</td>\n",
              "      <td>4</td>\n",
              "      <td>0</td>\n",
              "      <td>1</td>\n",
              "      <td>0</td>\n",
              "      <td>0</td>\n",
              "      <td>0</td>\n",
              "      <td>Alcohol</td>\n",
              "    </tr>\n",
              "    <tr>\n",
              "      <th>3</th>\n",
              "      <td>Methane</td>\n",
              "      <td>111.65</td>\n",
              "      <td>16.043</td>\n",
              "      <td>CH4</td>\n",
              "      <td>0.0</td>\n",
              "      <td>1</td>\n",
              "      <td>0</td>\n",
              "      <td>C</td>\n",
              "      <td>1</td>\n",
              "      <td>0</td>\n",
              "      <td>0</td>\n",
              "      <td>0</td>\n",
              "      <td>0</td>\n",
              "      <td>0</td>\n",
              "      <td>Hydrocarbon</td>\n",
              "    </tr>\n",
              "    <tr>\n",
              "      <th>4</th>\n",
              "      <td>Octane</td>\n",
              "      <td>398.77</td>\n",
              "      <td>114.230</td>\n",
              "      <td>C8H18</td>\n",
              "      <td>0.0</td>\n",
              "      <td>8</td>\n",
              "      <td>0</td>\n",
              "      <td>CCCCCCCC</td>\n",
              "      <td>8</td>\n",
              "      <td>0</td>\n",
              "      <td>0</td>\n",
              "      <td>0</td>\n",
              "      <td>0</td>\n",
              "      <td>0</td>\n",
              "      <td>Hydrocarbon</td>\n",
              "    </tr>\n",
              "  </tbody>\n",
              "</table>\n",
              "</div>\n",
              "    <div class=\"colab-df-buttons\">\n",
              "\n",
              "  <div class=\"colab-df-container\">\n",
              "    <button class=\"colab-df-convert\" onclick=\"convertToInteractive('df-07cf9723-a757-48d6-a2a2-fee91ef3cd05')\"\n",
              "            title=\"Convert this dataframe to an interactive table.\"\n",
              "            style=\"display:none;\">\n",
              "\n",
              "  <svg xmlns=\"http://www.w3.org/2000/svg\" height=\"24px\" viewBox=\"0 -960 960 960\">\n",
              "    <path d=\"M120-120v-720h720v720H120Zm60-500h600v-160H180v160Zm220 220h160v-160H400v160Zm0 220h160v-160H400v160ZM180-400h160v-160H180v160Zm440 0h160v-160H620v160ZM180-180h160v-160H180v160Zm440 0h160v-160H620v160Z\"/>\n",
              "  </svg>\n",
              "    </button>\n",
              "\n",
              "  <style>\n",
              "    .colab-df-container {\n",
              "      display:flex;\n",
              "      gap: 12px;\n",
              "    }\n",
              "\n",
              "    .colab-df-convert {\n",
              "      background-color: #E8F0FE;\n",
              "      border: none;\n",
              "      border-radius: 50%;\n",
              "      cursor: pointer;\n",
              "      display: none;\n",
              "      fill: #1967D2;\n",
              "      height: 32px;\n",
              "      padding: 0 0 0 0;\n",
              "      width: 32px;\n",
              "    }\n",
              "\n",
              "    .colab-df-convert:hover {\n",
              "      background-color: #E2EBFA;\n",
              "      box-shadow: 0px 1px 2px rgba(60, 64, 67, 0.3), 0px 1px 3px 1px rgba(60, 64, 67, 0.15);\n",
              "      fill: #174EA6;\n",
              "    }\n",
              "\n",
              "    .colab-df-buttons div {\n",
              "      margin-bottom: 4px;\n",
              "    }\n",
              "\n",
              "    [theme=dark] .colab-df-convert {\n",
              "      background-color: #3B4455;\n",
              "      fill: #D2E3FC;\n",
              "    }\n",
              "\n",
              "    [theme=dark] .colab-df-convert:hover {\n",
              "      background-color: #434B5C;\n",
              "      box-shadow: 0px 1px 3px 1px rgba(0, 0, 0, 0.15);\n",
              "      filter: drop-shadow(0px 1px 2px rgba(0, 0, 0, 0.3));\n",
              "      fill: #FFFFFF;\n",
              "    }\n",
              "  </style>\n",
              "\n",
              "    <script>\n",
              "      const buttonEl =\n",
              "        document.querySelector('#df-07cf9723-a757-48d6-a2a2-fee91ef3cd05 button.colab-df-convert');\n",
              "      buttonEl.style.display =\n",
              "        google.colab.kernel.accessAllowed ? 'block' : 'none';\n",
              "\n",
              "      async function convertToInteractive(key) {\n",
              "        const element = document.querySelector('#df-07cf9723-a757-48d6-a2a2-fee91ef3cd05');\n",
              "        const dataTable =\n",
              "          await google.colab.kernel.invokeFunction('convertToInteractive',\n",
              "                                                    [key], {});\n",
              "        if (!dataTable) return;\n",
              "\n",
              "        const docLinkHtml = 'Like what you see? Visit the ' +\n",
              "          '<a target=\"_blank\" href=https://colab.research.google.com/notebooks/data_table.ipynb>data table notebook</a>'\n",
              "          + ' to learn more about interactive tables.';\n",
              "        element.innerHTML = '';\n",
              "        dataTable['output_type'] = 'display_data';\n",
              "        await google.colab.output.renderOutput(dataTable, element);\n",
              "        const docLink = document.createElement('div');\n",
              "        docLink.innerHTML = docLinkHtml;\n",
              "        element.appendChild(docLink);\n",
              "      }\n",
              "    </script>\n",
              "  </div>\n",
              "\n",
              "\n",
              "<div id=\"df-43054ced-4759-4dd2-b1ab-6ce31a284627\">\n",
              "  <button class=\"colab-df-quickchart\" onclick=\"quickchart('df-43054ced-4759-4dd2-b1ab-6ce31a284627')\"\n",
              "            title=\"Suggest charts\"\n",
              "            style=\"display:none;\">\n",
              "\n",
              "<svg xmlns=\"http://www.w3.org/2000/svg\" height=\"24px\"viewBox=\"0 0 24 24\"\n",
              "     width=\"24px\">\n",
              "    <g>\n",
              "        <path d=\"M19 3H5c-1.1 0-2 .9-2 2v14c0 1.1.9 2 2 2h14c1.1 0 2-.9 2-2V5c0-1.1-.9-2-2-2zM9 17H7v-7h2v7zm4 0h-2V7h2v10zm4 0h-2v-4h2v4z\"/>\n",
              "    </g>\n",
              "</svg>\n",
              "  </button>\n",
              "\n",
              "<style>\n",
              "  .colab-df-quickchart {\n",
              "      --bg-color: #E8F0FE;\n",
              "      --fill-color: #1967D2;\n",
              "      --hover-bg-color: #E2EBFA;\n",
              "      --hover-fill-color: #174EA6;\n",
              "      --disabled-fill-color: #AAA;\n",
              "      --disabled-bg-color: #DDD;\n",
              "  }\n",
              "\n",
              "  [theme=dark] .colab-df-quickchart {\n",
              "      --bg-color: #3B4455;\n",
              "      --fill-color: #D2E3FC;\n",
              "      --hover-bg-color: #434B5C;\n",
              "      --hover-fill-color: #FFFFFF;\n",
              "      --disabled-bg-color: #3B4455;\n",
              "      --disabled-fill-color: #666;\n",
              "  }\n",
              "\n",
              "  .colab-df-quickchart {\n",
              "    background-color: var(--bg-color);\n",
              "    border: none;\n",
              "    border-radius: 50%;\n",
              "    cursor: pointer;\n",
              "    display: none;\n",
              "    fill: var(--fill-color);\n",
              "    height: 32px;\n",
              "    padding: 0;\n",
              "    width: 32px;\n",
              "  }\n",
              "\n",
              "  .colab-df-quickchart:hover {\n",
              "    background-color: var(--hover-bg-color);\n",
              "    box-shadow: 0 1px 2px rgba(60, 64, 67, 0.3), 0 1px 3px 1px rgba(60, 64, 67, 0.15);\n",
              "    fill: var(--button-hover-fill-color);\n",
              "  }\n",
              "\n",
              "  .colab-df-quickchart-complete:disabled,\n",
              "  .colab-df-quickchart-complete:disabled:hover {\n",
              "    background-color: var(--disabled-bg-color);\n",
              "    fill: var(--disabled-fill-color);\n",
              "    box-shadow: none;\n",
              "  }\n",
              "\n",
              "  .colab-df-spinner {\n",
              "    border: 2px solid var(--fill-color);\n",
              "    border-color: transparent;\n",
              "    border-bottom-color: var(--fill-color);\n",
              "    animation:\n",
              "      spin 1s steps(1) infinite;\n",
              "  }\n",
              "\n",
              "  @keyframes spin {\n",
              "    0% {\n",
              "      border-color: transparent;\n",
              "      border-bottom-color: var(--fill-color);\n",
              "      border-left-color: var(--fill-color);\n",
              "    }\n",
              "    20% {\n",
              "      border-color: transparent;\n",
              "      border-left-color: var(--fill-color);\n",
              "      border-top-color: var(--fill-color);\n",
              "    }\n",
              "    30% {\n",
              "      border-color: transparent;\n",
              "      border-left-color: var(--fill-color);\n",
              "      border-top-color: var(--fill-color);\n",
              "      border-right-color: var(--fill-color);\n",
              "    }\n",
              "    40% {\n",
              "      border-color: transparent;\n",
              "      border-right-color: var(--fill-color);\n",
              "      border-top-color: var(--fill-color);\n",
              "    }\n",
              "    60% {\n",
              "      border-color: transparent;\n",
              "      border-right-color: var(--fill-color);\n",
              "    }\n",
              "    80% {\n",
              "      border-color: transparent;\n",
              "      border-right-color: var(--fill-color);\n",
              "      border-bottom-color: var(--fill-color);\n",
              "    }\n",
              "    90% {\n",
              "      border-color: transparent;\n",
              "      border-bottom-color: var(--fill-color);\n",
              "    }\n",
              "  }\n",
              "</style>\n",
              "\n",
              "  <script>\n",
              "    async function quickchart(key) {\n",
              "      const quickchartButtonEl =\n",
              "        document.querySelector('#' + key + ' button');\n",
              "      quickchartButtonEl.disabled = true;  // To prevent multiple clicks.\n",
              "      quickchartButtonEl.classList.add('colab-df-spinner');\n",
              "      try {\n",
              "        const charts = await google.colab.kernel.invokeFunction(\n",
              "            'suggestCharts', [key], {});\n",
              "      } catch (error) {\n",
              "        console.error('Error during call to suggestCharts:', error);\n",
              "      }\n",
              "      quickchartButtonEl.classList.remove('colab-df-spinner');\n",
              "      quickchartButtonEl.classList.add('colab-df-quickchart-complete');\n",
              "    }\n",
              "    (() => {\n",
              "      let quickchartButtonEl =\n",
              "        document.querySelector('#df-43054ced-4759-4dd2-b1ab-6ce31a284627 button');\n",
              "      quickchartButtonEl.style.display =\n",
              "        google.colab.kernel.accessAllowed ? 'block' : 'none';\n",
              "    })();\n",
              "  </script>\n",
              "</div>\n",
              "\n",
              "    </div>\n",
              "  </div>\n"
            ],
            "application/vnd.google.colaboratory.intrinsic+json": {
              "type": "dataframe",
              "variable_name": "compounds",
              "summary": "{\n  \"name\": \"compounds\",\n  \"rows\": 1748,\n  \"fields\": [\n    {\n      \"column\": \"cmpdname\",\n      \"properties\": {\n        \"dtype\": \"string\",\n        \"num_unique_values\": 1748,\n        \"samples\": [\n          \"2,2,5,6-Tetramethylheptane\",\n          \"(E)-3,4-Dimethylhex-3-ene\",\n          \"1-Methoxy-2-butanol\"\n        ],\n        \"semantic_type\": \"\",\n        \"description\": \"\"\n      }\n    },\n    {\n      \"column\": \"BoilingPoint\",\n      \"properties\": {\n        \"dtype\": \"number\",\n        \"std\": 126.7659770753335,\n        \"min\": 111.65,\n        \"max\": 1446.24,\n        \"num_unique_values\": 1042,\n        \"samples\": [\n          840.66,\n          436.86,\n          679.64\n        ],\n        \"semantic_type\": \"\",\n        \"description\": \"\"\n      }\n    },\n    {\n      \"column\": \"mw\",\n      \"properties\": {\n        \"dtype\": \"number\",\n        \"std\": 84.14566692822329,\n        \"min\": 16.043,\n        \"max\": 774.5,\n        \"num_unique_values\": 298,\n        \"samples\": [\n          128.21,\n          322.6,\n          74.08\n        ],\n        \"semantic_type\": \"\",\n        \"description\": \"\"\n      }\n    },\n    {\n      \"column\": \"mf\",\n      \"properties\": {\n        \"dtype\": \"category\",\n        \"num_unique_values\": 307,\n        \"samples\": [\n          \"C10H22O4\",\n          \"C6H15N\",\n          \"C15H32O\"\n        ],\n        \"semantic_type\": \"\",\n        \"description\": \"\"\n      }\n    },\n    {\n      \"column\": \"polararea\",\n      \"properties\": {\n        \"dtype\": \"number\",\n        \"std\": 17.378254186593935,\n        \"min\": 0.0,\n        \"max\": 180.0,\n        \"num_unique_values\": 40,\n        \"samples\": [\n          38.7,\n          29.5,\n          55.3\n        ],\n        \"semantic_type\": \"\",\n        \"description\": \"\"\n      }\n    },\n    {\n      \"column\": \"heavycnt\",\n      \"properties\": {\n        \"dtype\": \"number\",\n        \"std\": 5,\n        \"min\": 1,\n        \"max\": 55,\n        \"num_unique_values\": 45,\n        \"samples\": [\n          38,\n          32,\n          27\n        ],\n        \"semantic_type\": \"\",\n        \"description\": \"\"\n      }\n    },\n    {\n      \"column\": \"hbondacc\",\n      \"properties\": {\n        \"dtype\": \"number\",\n        \"std\": 0,\n        \"min\": 0,\n        \"max\": 10,\n        \"num_unique_values\": 10,\n        \"samples\": [\n          10,\n          1,\n          6\n        ],\n        \"semantic_type\": \"\",\n        \"description\": \"\"\n      }\n    },\n    {\n      \"column\": \"isosmiles\",\n      \"properties\": {\n        \"dtype\": \"string\",\n        \"num_unique_values\": 1748,\n        \"samples\": [\n          \"CC(C)C(C)CCC(C)(C)C\",\n          \"CC/C(=C(\\\\\\\\C)/CC)/C\",\n          \"CCC(COC)O\"\n        ],\n        \"semantic_type\": \"\",\n        \"description\": \"\"\n      }\n    },\n    {\n      \"column\": \"C number\",\n      \"properties\": {\n        \"dtype\": \"number\",\n        \"std\": 6,\n        \"min\": 1,\n        \"max\": 54,\n        \"num_unique_values\": 44,\n        \"samples\": [\n          37,\n          15,\n          19\n        ],\n        \"semantic_type\": \"\",\n        \"description\": \"\"\n      }\n    },\n    {\n      \"column\": \"N number\",\n      \"properties\": {\n        \"dtype\": \"number\",\n        \"std\": 0,\n        \"min\": 0,\n        \"max\": 6,\n        \"num_unique_values\": 7,\n        \"samples\": [\n          0,\n          1,\n          5\n        ],\n        \"semantic_type\": \"\",\n        \"description\": \"\"\n      }\n    },\n    {\n      \"column\": \"O number\",\n      \"properties\": {\n        \"dtype\": \"number\",\n        \"std\": 0,\n        \"min\": 0,\n        \"max\": 10,\n        \"num_unique_values\": 10,\n        \"samples\": [\n          10,\n          1,\n          5\n        ],\n        \"semantic_type\": \"\",\n        \"description\": \"\"\n      }\n    },\n    {\n      \"column\": \"Side chain number\",\n      \"properties\": {\n        \"dtype\": \"number\",\n        \"std\": 1,\n        \"min\": 0,\n        \"max\": 10,\n        \"num_unique_values\": 10,\n        \"samples\": [\n          10,\n          2,\n          3\n        ],\n        \"semantic_type\": \"\",\n        \"description\": \"\"\n      }\n    },\n    {\n      \"column\": \"Double bond number\",\n      \"properties\": {\n        \"dtype\": \"number\",\n        \"std\": 0,\n        \"min\": 0,\n        \"max\": 13,\n        \"num_unique_values\": 7,\n        \"samples\": [\n          0,\n          1,\n          13\n        ],\n        \"semantic_type\": \"\",\n        \"description\": \"\"\n      }\n    },\n    {\n      \"column\": \"Triple bond number\",\n      \"properties\": {\n        \"dtype\": \"number\",\n        \"std\": 0,\n        \"min\": 0,\n        \"max\": 3,\n        \"num_unique_values\": 4,\n        \"samples\": [\n          1,\n          3,\n          0\n        ],\n        \"semantic_type\": \"\",\n        \"description\": \"\"\n      }\n    },\n    {\n      \"column\": \"Classify1\",\n      \"properties\": {\n        \"dtype\": \"category\",\n        \"num_unique_values\": 3,\n        \"samples\": [\n          \"Alcohol\",\n          \"Hydrocarbon\",\n          \"Amine\"\n        ],\n        \"semantic_type\": \"\",\n        \"description\": \"\"\n      }\n    }\n  ]\n}"
            }
          },
          "metadata": {},
          "execution_count": 4
        }
      ],
      "source": [
        "data_url = 'https://raw.githubusercontent.com/woldr001/AIChE_Workshop_MSU/refs/heads/main/boiling_point_data.csv'\n",
        "compounds = pd.read_csv(data_url)\n",
        "compounds.head()"
      ]
    },
    {
      "cell_type": "markdown",
      "metadata": {
        "id": "nxjVvUtu8_zr"
      },
      "source": [
        "### Import clean data"
      ]
    },
    {
      "cell_type": "code",
      "execution_count": null,
      "metadata": {
        "id": "pMCTTJbM8_zs"
      },
      "outputs": [],
      "source": [
        "compounds = pd.read_excel('ed3c01040_si_002.xlsx')\n",
        "compounds.head()"
      ]
    },
    {
      "cell_type": "markdown",
      "metadata": {
        "id": "_it83PL28_zu"
      },
      "source": [
        "### b) Delete unnecessary compounds"
      ]
    },
    {
      "cell_type": "raw",
      "metadata": {
        "id": "uVfm1g3h8_zv"
      },
      "source": [
        "count0 = len(compounds)\n",
        "deletions = [\"F\", \"Cl\", \"Br\", \"I\", \"S\", \"P\", \"K\", \"Ge\", \"NO\", \"N2O\", \"N3O\", ] #\"+\", \"-\"]\n",
        "\n",
        "for d in deletions:\n",
        "    count1 = len(compounds)\n",
        "    compounds = compounds[~compounds['mf'].str.contains(d)]\n",
        "    print(d, count1 - len(compounds))\n"
      ]
    },
    {
      "cell_type": "markdown",
      "metadata": {
        "id": "Z6xxvMu48_zw"
      },
      "source": [
        "### C. DATA Classification"
      ]
    },
    {
      "cell_type": "code",
      "execution_count": null,
      "metadata": {
        "id": "yEkTMBTM8_zw"
      },
      "outputs": [],
      "source": [
        "compounds[\"Classify1\"].value_counts()"
      ]
    },
    {
      "cell_type": "markdown",
      "metadata": {
        "id": "ubrpVV1g8_zy"
      },
      "source": [
        "## Training Set and Test Set"
      ]
    },
    {
      "cell_type": "code",
      "execution_count": null,
      "metadata": {
        "id": "hxYVyAFG8_zy"
      },
      "outputs": [],
      "source": [
        "def split_data_with_id_hash(data, test_ratio, id_column):\n",
        "\n",
        "    from zlib import crc32\n",
        "\n",
        "    def is_id_in_test_set(identifier, test_ratio):\n",
        "      return crc32(np.int64(identifier)) < test_ratio * 2**32\n",
        "\n",
        "    ids = data[id_column]\n",
        "    in_test_set = ids.apply(lambda id_: is_id_in_test_set(id_, test_ratio))\n",
        "    return data.loc[~in_test_set], data.loc[in_test_set]"
      ]
    },
    {
      "cell_type": "code",
      "execution_count": null,
      "metadata": {
        "id": "Qsk9S9_28_zz"
      },
      "outputs": [],
      "source": [
        "compounds = compounds.reset_index()\n",
        "train_set, test_set = split_data_with_id_hash(compounds, 0.2, \"index\")"
      ]
    },
    {
      "cell_type": "code",
      "execution_count": null,
      "metadata": {
        "id": "QaJLccNl8_z0"
      },
      "outputs": [],
      "source": [
        "len(train_set), len(test_set)"
      ]
    },
    {
      "cell_type": "markdown",
      "metadata": {
        "id": "jj1m9Shb8_z0"
      },
      "source": [
        "## Data Exploration"
      ]
    },
    {
      "cell_type": "markdown",
      "metadata": {
        "id": "hkXaapf88_z1"
      },
      "source": [
        "### Histograms"
      ]
    },
    {
      "cell_type": "code",
      "execution_count": null,
      "metadata": {
        "id": "i9g_MZd38_z1"
      },
      "outputs": [],
      "source": [
        "plt.rc('font', size=14)\n",
        "plt.rc('axes', labelsize=14, titlesize=14)\n",
        "plt.rc('legend', fontsize=14)\n",
        "plt.rc('xtick', labelsize=10)\n",
        "plt.rc('ytick', labelsize=10)\n",
        "\n",
        "train_set.hist(bins=50, figsize=(12, 8))\n",
        "plt.show()"
      ]
    },
    {
      "cell_type": "markdown",
      "metadata": {
        "id": "ujCIKver8_z2"
      },
      "source": [
        "### Correlations"
      ]
    },
    {
      "cell_type": "code",
      "execution_count": null,
      "metadata": {
        "id": "L7CIEdlD8_z2"
      },
      "outputs": [],
      "source": [
        "cols = ['BoilingPoint', 'mw', 'polararea', 'heavycnt',\n",
        "       'hbondacc', 'C number', 'N number', 'O number',\n",
        "       'Side chain number', 'Double bond number', 'Triple bond number']\n",
        "corr_matrix = train_set[cols].corr()\n",
        "corr_matrix"
      ]
    },
    {
      "cell_type": "markdown",
      "metadata": {
        "id": "NUKuhFDe8_z3"
      },
      "source": [
        "### Scatter Plot"
      ]
    },
    {
      "cell_type": "code",
      "execution_count": null,
      "metadata": {
        "id": "CMf6uZxA8_z3"
      },
      "outputs": [],
      "source": [
        "from pandas.plotting import scatter_matrix\n",
        "cols = ['BoilingPoint', 'mw', 'polararea', 'heavycnt',\n",
        "        'C number', 'N number', 'O number',\n",
        "       'Side chain number', 'Double bond number',]\n",
        "scatter_matrix(train_set[cols], figsize=(12, 8))\n",
        "show()"
      ]
    },
    {
      "cell_type": "markdown",
      "metadata": {
        "id": "ya9ux4qK8_z4"
      },
      "source": [
        "## Prepare for ML"
      ]
    },
    {
      "cell_type": "markdown",
      "metadata": {
        "id": "gVBiQ-TU8_z4"
      },
      "source": [
        "### define labels"
      ]
    },
    {
      "cell_type": "code",
      "execution_count": null,
      "metadata": {
        "id": "AEg4Z_Ch8_z5"
      },
      "outputs": [],
      "source": [
        "compounds=train_set.drop('BoilingPoint', axis=1)\n",
        "bps = train_set['BoilingPoint'].copy()"
      ]
    },
    {
      "cell_type": "markdown",
      "metadata": {
        "id": "rei7C0q28_z5"
      },
      "source": [
        "### Encode category"
      ]
    },
    {
      "cell_type": "code",
      "execution_count": null,
      "metadata": {
        "id": "Z-sfGEqE8_z5"
      },
      "outputs": [],
      "source": [
        "compounds_category = compounds[[\"Classify1\"]]\n",
        "compounds_category.head()"
      ]
    },
    {
      "cell_type": "code",
      "execution_count": null,
      "metadata": {
        "id": "S9TY-Jzq8_z6"
      },
      "outputs": [],
      "source": [
        "from sklearn.preprocessing import OneHotEncoder\n",
        "\n",
        "cat_encoder = OneHotEncoder(sparse_output=False)\n",
        "compounds_cat_1hot = cat_encoder.fit_transform(compounds_category)\n",
        "compounds_cat_1hot[:10]"
      ]
    },
    {
      "cell_type": "code",
      "execution_count": null,
      "metadata": {
        "id": "Izowbe1Y8_z6"
      },
      "outputs": [],
      "source": [
        "cat_encoder.categories_"
      ]
    },
    {
      "cell_type": "markdown",
      "metadata": {
        "id": "cHLJrQ-r8_z7"
      },
      "source": [
        "### Feature Scaling"
      ]
    },
    {
      "cell_type": "markdown",
      "metadata": {
        "id": "SazoYgRm8_z7"
      },
      "source": [
        "We'll skip this for now..."
      ]
    },
    {
      "cell_type": "code",
      "execution_count": null,
      "metadata": {
        "id": "eA2DdL1V8_z8"
      },
      "outputs": [],
      "source": [
        "sklearn.set_config(display='diagram')"
      ]
    },
    {
      "cell_type": "markdown",
      "metadata": {
        "id": "OKVzP6EQ8_z8"
      },
      "source": [
        "### Create Pipeline"
      ]
    },
    {
      "cell_type": "code",
      "execution_count": null,
      "metadata": {
        "id": "POL-3Gv08_z8"
      },
      "outputs": [],
      "source": [
        "from sklearn.impute import SimpleImputer\n",
        "from sklearn.preprocessing import StandardScaler\n",
        "from sklearn.pipeline import make_pipeline\n",
        "\n",
        "num_pipeline = make_pipeline(SimpleImputer(strategy=\"median\"), StandardScaler())\n",
        "\n",
        "num_pipeline"
      ]
    },
    {
      "cell_type": "code",
      "execution_count": null,
      "metadata": {
        "id": "0UoN_dPf8_z9"
      },
      "outputs": [],
      "source": [
        "from sklearn.compose import ColumnTransformer\n",
        "\n",
        "num_attribs = ['mw', 'polararea', 'heavycnt',\n",
        "       'hbondacc', 'C number', 'N number', 'O number',\n",
        "       'Side chain number', 'Double bond number', 'Triple bond number']\n",
        "cat_attribs = [\"Classify1\"]\n",
        "\n",
        "cat_pipeline = make_pipeline(\n",
        "  SimpleImputer(strategy=\"most_frequent\"),\n",
        "  OneHotEncoder(handle_unknown=\"ignore\"))\n",
        "\n",
        "preprocessing = ColumnTransformer([\n",
        "  (\"num\", num_pipeline, num_attribs),\n",
        "  (\"cat\", cat_pipeline, cat_attribs),\n",
        "])\n",
        "\n",
        "preprocessing"
      ]
    },
    {
      "cell_type": "code",
      "execution_count": null,
      "metadata": {
        "id": "B-RzG7B98_z-"
      },
      "outputs": [],
      "source": [
        "compounds_prepared = preprocessing.fit_transform(compounds)\n",
        "compounds_prepared"
      ]
    },
    {
      "cell_type": "code",
      "execution_count": null,
      "metadata": {
        "id": "lFItCm1S8_z-"
      },
      "outputs": [],
      "source": [
        "preprocessing.get_feature_names_out()"
      ]
    },
    {
      "cell_type": "markdown",
      "metadata": {
        "id": "tg-nZwYa8_z-"
      },
      "source": [
        "## Linear Regression"
      ]
    },
    {
      "cell_type": "code",
      "execution_count": null,
      "metadata": {
        "id": "aogeaTvd8_0K"
      },
      "outputs": [],
      "source": [
        "from sklearn.linear_model import LinearRegression\n",
        "\n",
        "lin_reg = make_pipeline(preprocessing, LinearRegression())\n",
        "lin_reg.fit(compounds, bps)"
      ]
    },
    {
      "cell_type": "code",
      "execution_count": null,
      "metadata": {
        "id": "zC4e501f8_0L"
      },
      "outputs": [],
      "source": [
        "bp_predictions = lin_reg.predict(compounds)\n",
        "bp_predictions[:5]"
      ]
    },
    {
      "cell_type": "code",
      "execution_count": null,
      "metadata": {
        "id": "Ch8XUlyP8_0L"
      },
      "outputs": [],
      "source": [
        "bps.iloc[:5]"
      ]
    },
    {
      "cell_type": "code",
      "execution_count": null,
      "metadata": {
        "id": "eZ7LGgFx8_0M"
      },
      "outputs": [],
      "source": [
        "from sklearn.metrics import root_mean_squared_error\n",
        "lin_rmse = root_mean_squared_error(bps, bp_predictions)\n",
        "lin_rmse"
      ]
    },
    {
      "cell_type": "code",
      "execution_count": null,
      "metadata": {
        "id": "cY4GGOEv8_0N"
      },
      "outputs": [],
      "source": [
        "plot_fun(bps, bp_predictions, 'Linear Regression')"
      ]
    },
    {
      "cell_type": "markdown",
      "metadata": {
        "id": "tELdRw0I8_0O"
      },
      "source": [
        "### Cross-Validation"
      ]
    },
    {
      "cell_type": "code",
      "execution_count": null,
      "metadata": {
        "id": "YVnP3CiP8_0O"
      },
      "outputs": [],
      "source": [
        "from sklearn.model_selection import cross_val_score\n",
        "\n",
        "lin_rmses = -cross_val_score(lin_reg, compounds, bps,\n",
        "                            scoring=\"neg_root_mean_squared_error\", cv=10)"
      ]
    },
    {
      "cell_type": "code",
      "execution_count": null,
      "metadata": {
        "id": "DyjfPO668_0P"
      },
      "outputs": [],
      "source": [
        "lin_rmses"
      ]
    },
    {
      "cell_type": "code",
      "execution_count": null,
      "metadata": {
        "id": "ako-nWUe8_0P"
      },
      "outputs": [],
      "source": [
        "pd.Series(lin_rmses).describe()"
      ]
    },
    {
      "cell_type": "markdown",
      "metadata": {
        "id": "rbXXDB298_0Q"
      },
      "source": [
        "## Decision Tree"
      ]
    },
    {
      "cell_type": "code",
      "execution_count": null,
      "metadata": {
        "id": "6PsOIMf_8_0R"
      },
      "outputs": [],
      "source": [
        "from sklearn.tree import DecisionTreeRegressor\n",
        "\n",
        "tree_reg = make_pipeline(preprocessing, DecisionTreeRegressor(random_state=42))\n",
        "tree_reg.fit(compounds, bps)"
      ]
    },
    {
      "cell_type": "code",
      "execution_count": null,
      "metadata": {
        "id": "Qil2NO6_8_0S"
      },
      "outputs": [],
      "source": [
        "bp_predictions = tree_reg.predict(compounds)\n",
        "tree_rmse = root_mean_squared_error(bps, bp_predictions)\n",
        "tree_rmse"
      ]
    },
    {
      "cell_type": "code",
      "execution_count": null,
      "metadata": {
        "id": "OLUkdhMl8_0S"
      },
      "outputs": [],
      "source": [
        "plot_fun(bps, bp_predictions, 'Decision Tree')"
      ]
    },
    {
      "cell_type": "markdown",
      "metadata": {
        "id": "6hEoZnGj8_0T"
      },
      "source": [
        "### Cross-Validation"
      ]
    },
    {
      "cell_type": "code",
      "execution_count": null,
      "metadata": {
        "id": "TV3I9hMg8_0U"
      },
      "outputs": [],
      "source": [
        "tree_rmses = -cross_val_score(tree_reg, compounds, bps,\n",
        "                            scoring=\"neg_root_mean_squared_error\", cv=10)"
      ]
    },
    {
      "cell_type": "code",
      "execution_count": null,
      "metadata": {
        "id": "SO9YBV7T8_0V"
      },
      "outputs": [],
      "source": [
        "tree_rmses"
      ]
    },
    {
      "cell_type": "code",
      "execution_count": null,
      "metadata": {
        "id": "d13uExUp8_0V"
      },
      "outputs": [],
      "source": [
        "pd.Series(tree_rmses).describe()"
      ]
    },
    {
      "cell_type": "markdown",
      "metadata": {
        "id": "5CZ0nhC-8_0W"
      },
      "source": [
        "## Random Forest"
      ]
    },
    {
      "cell_type": "code",
      "execution_count": null,
      "metadata": {
        "id": "dOy_4P968_0X"
      },
      "outputs": [],
      "source": [
        "from sklearn.ensemble import RandomForestRegressor\n",
        "\n",
        "forest_reg = make_pipeline(preprocessing,\n",
        "                       RandomForestRegressor(random_state=42))\n",
        "\n",
        "forest_reg.fit(compounds, bps)\n",
        "\n",
        "bp_predictions = forest_reg.predict(compounds)\n",
        "\n",
        "forest_rmses = -cross_val_score(forest_reg, compounds, bps,\n",
        "                            scoring=\"neg_root_mean_squared_error\", cv=10)"
      ]
    },
    {
      "cell_type": "code",
      "execution_count": null,
      "metadata": {
        "id": "-t_ZPHTh8_0X"
      },
      "outputs": [],
      "source": [
        "pd.Series(forest_rmses).describe()"
      ]
    },
    {
      "cell_type": "code",
      "execution_count": null,
      "metadata": {
        "id": "yXZKtVNh8_0Y"
      },
      "outputs": [],
      "source": [
        "plot_fun(bps, bp_predictions, 'Random Forest')"
      ]
    },
    {
      "cell_type": "markdown",
      "metadata": {
        "id": "q4BaU3558_0Y"
      },
      "source": [
        "### Feature Importance"
      ]
    },
    {
      "cell_type": "code",
      "execution_count": null,
      "metadata": {
        "id": "ZK5k7NtA8_0Y"
      },
      "outputs": [],
      "source": [
        "feature_importances = forest_reg['randomforestregressor'].feature_importances_\n",
        "feature_names = preprocessing.get_feature_names_out()"
      ]
    },
    {
      "cell_type": "code",
      "execution_count": null,
      "metadata": {
        "id": "SiuAV2GL8_0Z"
      },
      "outputs": [],
      "source": [
        "barh(feature_names, feature_importances)"
      ]
    },
    {
      "cell_type": "markdown",
      "metadata": {
        "id": "hapZBaww8_0Z"
      },
      "source": [
        "## Compare to Test Data"
      ]
    },
    {
      "cell_type": "code",
      "execution_count": null,
      "metadata": {
        "id": "DYoasxeV8_0a"
      },
      "outputs": [],
      "source": [
        "test_bps = test_set['BoilingPoint'].copy()\n",
        "test_predictions = forest_reg.predict(test_set)"
      ]
    },
    {
      "cell_type": "code",
      "execution_count": null,
      "metadata": {
        "id": "z3bNg48J8_0a"
      },
      "outputs": [],
      "source": [
        "plot_fun(test_bps, test_predictions, 'Random Forest - Test Set')"
      ]
    },
    {
      "cell_type": "code",
      "execution_count": null,
      "metadata": {
        "id": "hBifLsPY8_0b"
      },
      "outputs": [],
      "source": [
        "final_rmse = root_mean_squared_error(test_bps, test_predictions)\n",
        "print(final_rmse)"
      ]
    },
    {
      "cell_type": "markdown",
      "metadata": {
        "id": "n3kQYbum8_0b"
      },
      "source": [
        "## Neural Network\n",
        "Referred to as a Multi-layer Perceptron (MLP) in Scikit-learn"
      ]
    },
    {
      "cell_type": "code",
      "execution_count": null,
      "metadata": {
        "id": "iworXFW38_0c"
      },
      "outputs": [],
      "source": [
        "from sklearn.neural_network import MLPRegressor"
      ]
    },
    {
      "cell_type": "code",
      "execution_count": null,
      "metadata": {
        "id": "CxRZ5m218_0c"
      },
      "outputs": [],
      "source": [
        "mlp_regressor = MLPRegressor(solver='lbfgs', max_iter=1000)\n",
        "\n",
        "MLP_reg = make_pipeline(preprocessing, mlp_regressor )\n",
        "MLP_reg.fit(compounds, bps)\n",
        "\n",
        "bp_predictions = MLP_reg.predict(compounds)\n",
        "\n",
        "MLP_rmses = -cross_val_score(MLP_reg, compounds, bps,\n",
        "                            scoring=\"neg_root_mean_squared_error\", cv=10)"
      ]
    },
    {
      "cell_type": "code",
      "execution_count": null,
      "metadata": {
        "id": "KpHrl3TA8_0d"
      },
      "outputs": [],
      "source": [
        "pd.Series(MLP_rmses).describe()"
      ]
    },
    {
      "cell_type": "code",
      "execution_count": null,
      "metadata": {
        "id": "GeFYuzH78_0d"
      },
      "outputs": [],
      "source": [
        "plot(bps, bp_predictions,'o')\n",
        "plot(bps,bps)\n",
        "axis('square')\n",
        "xlabel('Boiling Point')\n",
        "ylabel('Predicted Boiling Point')\n",
        "title('Random Forest')\n",
        "show()"
      ]
    },
    {
      "cell_type": "code",
      "execution_count": null,
      "metadata": {
        "id": "DFUSVTWr8_0e"
      },
      "outputs": [],
      "source": []
    }
  ],
  "metadata": {
    "colab": {
      "provenance": []
    },
    "hide_input": false,
    "jupytext": {
      "formats": "ipynb,auto:percent"
    },
    "kernel_info": {
      "name": "python3"
    },
    "kernelspec": {
      "display_name": "python 3.12\n\n",
      "language": "python",
      "name": "python3.12"
    },
    "language_info": {
      "codemirror_mode": {
        "name": "ipython",
        "version": 3
      },
      "file_extension": ".py",
      "mimetype": "text/x-python",
      "name": "python",
      "nbconvert_exporter": "python",
      "pygments_lexer": "ipython3",
      "version": "3.12.7"
    },
    "nteract": {
      "version": "0.22.4"
    },
    "toc": {
      "base_numbering": 1,
      "nav_menu": {},
      "number_sections": false,
      "sideBar": true,
      "skip_h1_title": false,
      "title_cell": "Table of Contents",
      "title_sidebar": "Contents",
      "toc_cell": false,
      "toc_position": {},
      "toc_section_display": "block",
      "toc_window_display": false
    },
    "varInspector": {
      "cols": {
        "lenName": 16,
        "lenType": 16,
        "lenVar": 40
      },
      "kernels_config": {
        "python": {
          "delete_cmd_postfix": "",
          "delete_cmd_prefix": "del ",
          "library": "var_list.py",
          "varRefreshCmd": "print(var_dic_list())"
        },
        "r": {
          "delete_cmd_postfix": ") ",
          "delete_cmd_prefix": "rm(",
          "library": "var_list.r",
          "varRefreshCmd": "cat(var_dic_list()) "
        }
      },
      "types_to_exclude": [
        "module",
        "function",
        "builtin_function_or_method",
        "instance",
        "_Feature"
      ],
      "window_display": false
    }
  },
  "nbformat": 4,
  "nbformat_minor": 0
}