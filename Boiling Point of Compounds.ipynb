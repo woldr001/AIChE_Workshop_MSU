{
  "cells": [
    {
      "cell_type": "markdown",
      "metadata": {
        "id": "thOKpwcM8_za"
      },
      "source": [
        "# Boiling Point of Compounds\n",
        "Based on:\n",
        " 1. S.-Y. Kim, I. Jeon and S.-J. Kang, \"Integrating Data Science and Machine Learning to Chemistry Education: Predicting Classification and Boiling Point of Compounds\", J. Chem. Educ., 101, 1771–1776 (2024). [doi:10.1021/acs.jchemed.3c01040](doi.org/10.1021/acs.jchemed.3c01040)\n"
      ]
    },
    {
      "cell_type": "code",
      "execution_count": 2,
      "metadata": {
        "id": "QMCXVXDE8_zj"
      },
      "outputs": [],
      "source": [
        "from pylab import *\n",
        "import pandas as pd\n",
        "import sklearn"
      ]
    },
    {
      "cell_type": "markdown",
      "metadata": {
        "id": "Aoy2Hv6j8_zn"
      },
      "source": [
        "## Functions"
      ]
    },
    {
      "cell_type": "code",
      "execution_count": null,
      "metadata": {
        "id": "c7t995EI8_zo"
      },
      "outputs": [],
      "source": [
        "def plot_fun(bps, bp_predictions, t=None):\n",
        "    plot(bps, bp_predictions,'o')\n",
        "    plot(bps,bps)\n",
        "    axis('square')\n",
        "    xlabel('Boiling Point')\n",
        "    ylabel('Predicted Boiling Point')\n",
        "    title(t)\n",
        "    show()"
      ]
    },
    {
      "cell_type": "markdown",
      "metadata": {
        "id": "iIfL7lBm8_zp"
      },
      "source": [
        "## Import data"
      ]
    },
    {
      "cell_type": "code",
      "execution_count": null,
      "metadata": {
        "id": "JaFm2eWo8_zq"
      },
      "outputs": [],
      "source": [
        "compounds = pd.read_csv('PubChem_compound_cache.csv', usecols=range(28))\n",
        "compounds.head()"
      ]
    },
    {
      "cell_type": "markdown",
      "metadata": {
        "id": "nxjVvUtu8_zr"
      },
      "source": [
        "### Import clean data"
      ]
    },
    {
      "cell_type": "code",
      "execution_count": null,
      "metadata": {
        "id": "pMCTTJbM8_zs"
      },
      "outputs": [],
      "source": [
        "compounds = pd.read_excel('ed3c01040_si_002.xlsx')\n",
        "compounds.head()"
      ]
    },
    {
      "cell_type": "markdown",
      "metadata": {
        "id": "_it83PL28_zu"
      },
      "source": [
        "### b) Delete unnecessary compounds"
      ]
    },
    {
      "cell_type": "raw",
      "metadata": {
        "id": "uVfm1g3h8_zv"
      },
      "source": [
        "count0 = len(compounds)\n",
        "deletions = [\"F\", \"Cl\", \"Br\", \"I\", \"S\", \"P\", \"K\", \"Ge\", \"NO\", \"N2O\", \"N3O\", ] #\"+\", \"-\"]\n",
        "\n",
        "for d in deletions:\n",
        "    count1 = len(compounds)\n",
        "    compounds = compounds[~compounds['mf'].str.contains(d)]\n",
        "    print(d, count1 - len(compounds))\n"
      ]
    },
    {
      "cell_type": "markdown",
      "metadata": {
        "id": "Z6xxvMu48_zw"
      },
      "source": [
        "### C. DATA Classification"
      ]
    },
    {
      "cell_type": "code",
      "execution_count": null,
      "metadata": {
        "id": "yEkTMBTM8_zw"
      },
      "outputs": [],
      "source": [
        "compounds[\"Classify1\"].value_counts()"
      ]
    },
    {
      "cell_type": "markdown",
      "metadata": {
        "id": "ubrpVV1g8_zy"
      },
      "source": [
        "## Training Set and Test Set"
      ]
    },
    {
      "cell_type": "code",
      "execution_count": null,
      "metadata": {
        "id": "hxYVyAFG8_zy"
      },
      "outputs": [],
      "source": [
        "def split_data_with_id_hash(data, test_ratio, id_column):\n",
        "\n",
        "    from zlib import crc32\n",
        "\n",
        "    def is_id_in_test_set(identifier, test_ratio):\n",
        "      return crc32(np.int64(identifier)) < test_ratio * 2**32\n",
        "\n",
        "    ids = data[id_column]\n",
        "    in_test_set = ids.apply(lambda id_: is_id_in_test_set(id_, test_ratio))\n",
        "    return data.loc[~in_test_set], data.loc[in_test_set]"
      ]
    },
    {
      "cell_type": "code",
      "execution_count": null,
      "metadata": {
        "id": "Qsk9S9_28_zz"
      },
      "outputs": [],
      "source": [
        "compounds = compounds.reset_index()\n",
        "train_set, test_set = split_data_with_id_hash(compounds, 0.2, \"index\")"
      ]
    },
    {
      "cell_type": "code",
      "execution_count": null,
      "metadata": {
        "id": "QaJLccNl8_z0"
      },
      "outputs": [],
      "source": [
        "len(train_set), len(test_set)"
      ]
    },
    {
      "cell_type": "markdown",
      "metadata": {
        "id": "jj1m9Shb8_z0"
      },
      "source": [
        "## Data Exploration"
      ]
    },
    {
      "cell_type": "markdown",
      "metadata": {
        "id": "hkXaapf88_z1"
      },
      "source": [
        "### Histograms"
      ]
    },
    {
      "cell_type": "code",
      "execution_count": null,
      "metadata": {
        "id": "i9g_MZd38_z1"
      },
      "outputs": [],
      "source": [
        "plt.rc('font', size=14)\n",
        "plt.rc('axes', labelsize=14, titlesize=14)\n",
        "plt.rc('legend', fontsize=14)\n",
        "plt.rc('xtick', labelsize=10)\n",
        "plt.rc('ytick', labelsize=10)\n",
        "\n",
        "train_set.hist(bins=50, figsize=(12, 8))\n",
        "plt.show()"
      ]
    },
    {
      "cell_type": "markdown",
      "metadata": {
        "id": "ujCIKver8_z2"
      },
      "source": [
        "### Correlations"
      ]
    },
    {
      "cell_type": "code",
      "execution_count": null,
      "metadata": {
        "id": "L7CIEdlD8_z2"
      },
      "outputs": [],
      "source": [
        "cols = ['BoilingPoint', 'mw', 'polararea', 'heavycnt',\n",
        "       'hbondacc', 'C number', 'N number', 'O number',\n",
        "       'Side chain number', 'Double bond number', 'Triple bond number']\n",
        "corr_matrix = train_set[cols].corr()\n",
        "corr_matrix"
      ]
    },
    {
      "cell_type": "markdown",
      "metadata": {
        "id": "NUKuhFDe8_z3"
      },
      "source": [
        "### Scatter Plot"
      ]
    },
    {
      "cell_type": "code",
      "execution_count": null,
      "metadata": {
        "id": "CMf6uZxA8_z3"
      },
      "outputs": [],
      "source": [
        "from pandas.plotting import scatter_matrix\n",
        "cols = ['BoilingPoint', 'mw', 'polararea', 'heavycnt',\n",
        "        'C number', 'N number', 'O number',\n",
        "       'Side chain number', 'Double bond number',]\n",
        "scatter_matrix(train_set[cols], figsize=(12, 8))\n",
        "show()"
      ]
    },
    {
      "cell_type": "markdown",
      "metadata": {
        "id": "ya9ux4qK8_z4"
      },
      "source": [
        "## Prepare for ML"
      ]
    },
    {
      "cell_type": "markdown",
      "metadata": {
        "id": "gVBiQ-TU8_z4"
      },
      "source": [
        "### define labels"
      ]
    },
    {
      "cell_type": "code",
      "execution_count": null,
      "metadata": {
        "id": "AEg4Z_Ch8_z5"
      },
      "outputs": [],
      "source": [
        "compounds=train_set.drop('BoilingPoint', axis=1)\n",
        "bps = train_set['BoilingPoint'].copy()"
      ]
    },
    {
      "cell_type": "markdown",
      "metadata": {
        "id": "rei7C0q28_z5"
      },
      "source": [
        "### Encode category"
      ]
    },
    {
      "cell_type": "code",
      "execution_count": null,
      "metadata": {
        "id": "Z-sfGEqE8_z5"
      },
      "outputs": [],
      "source": [
        "compounds_category = compounds[[\"Classify1\"]]\n",
        "compounds_category.head()"
      ]
    },
    {
      "cell_type": "code",
      "execution_count": null,
      "metadata": {
        "id": "S9TY-Jzq8_z6"
      },
      "outputs": [],
      "source": [
        "from sklearn.preprocessing import OneHotEncoder\n",
        "\n",
        "cat_encoder = OneHotEncoder(sparse_output=False)\n",
        "compounds_cat_1hot = cat_encoder.fit_transform(compounds_category)\n",
        "compounds_cat_1hot[:10]"
      ]
    },
    {
      "cell_type": "code",
      "execution_count": null,
      "metadata": {
        "id": "Izowbe1Y8_z6"
      },
      "outputs": [],
      "source": [
        "cat_encoder.categories_"
      ]
    },
    {
      "cell_type": "markdown",
      "metadata": {
        "id": "cHLJrQ-r8_z7"
      },
      "source": [
        "### Feature Scaling"
      ]
    },
    {
      "cell_type": "markdown",
      "metadata": {
        "id": "SazoYgRm8_z7"
      },
      "source": [
        "We'll skip this for now..."
      ]
    },
    {
      "cell_type": "code",
      "execution_count": null,
      "metadata": {
        "id": "eA2DdL1V8_z8"
      },
      "outputs": [],
      "source": [
        "sklearn.set_config(display='diagram')"
      ]
    },
    {
      "cell_type": "markdown",
      "metadata": {
        "id": "OKVzP6EQ8_z8"
      },
      "source": [
        "### Create Pipeline"
      ]
    },
    {
      "cell_type": "code",
      "execution_count": null,
      "metadata": {
        "id": "POL-3Gv08_z8"
      },
      "outputs": [],
      "source": [
        "from sklearn.impute import SimpleImputer\n",
        "from sklearn.preprocessing import StandardScaler\n",
        "from sklearn.pipeline import make_pipeline\n",
        "\n",
        "num_pipeline = make_pipeline(SimpleImputer(strategy=\"median\"), StandardScaler())\n",
        "\n",
        "num_pipeline"
      ]
    },
    {
      "cell_type": "code",
      "execution_count": null,
      "metadata": {
        "id": "0UoN_dPf8_z9"
      },
      "outputs": [],
      "source": [
        "from sklearn.compose import ColumnTransformer\n",
        "\n",
        "num_attribs = ['mw', 'polararea', 'heavycnt',\n",
        "       'hbondacc', 'C number', 'N number', 'O number',\n",
        "       'Side chain number', 'Double bond number', 'Triple bond number']\n",
        "cat_attribs = [\"Classify1\"]\n",
        "\n",
        "cat_pipeline = make_pipeline(\n",
        "  SimpleImputer(strategy=\"most_frequent\"),\n",
        "  OneHotEncoder(handle_unknown=\"ignore\"))\n",
        "\n",
        "preprocessing = ColumnTransformer([\n",
        "  (\"num\", num_pipeline, num_attribs),\n",
        "  (\"cat\", cat_pipeline, cat_attribs),\n",
        "])\n",
        "\n",
        "preprocessing"
      ]
    },
    {
      "cell_type": "code",
      "execution_count": null,
      "metadata": {
        "id": "B-RzG7B98_z-"
      },
      "outputs": [],
      "source": [
        "compounds_prepared = preprocessing.fit_transform(compounds)\n",
        "compounds_prepared"
      ]
    },
    {
      "cell_type": "code",
      "execution_count": null,
      "metadata": {
        "id": "lFItCm1S8_z-"
      },
      "outputs": [],
      "source": [
        "preprocessing.get_feature_names_out()"
      ]
    },
    {
      "cell_type": "markdown",
      "metadata": {
        "id": "tg-nZwYa8_z-"
      },
      "source": [
        "## Linear Regression"
      ]
    },
    {
      "cell_type": "code",
      "execution_count": null,
      "metadata": {
        "id": "aogeaTvd8_0K"
      },
      "outputs": [],
      "source": [
        "from sklearn.linear_model import LinearRegression\n",
        "\n",
        "lin_reg = make_pipeline(preprocessing, LinearRegression())\n",
        "lin_reg.fit(compounds, bps)"
      ]
    },
    {
      "cell_type": "code",
      "execution_count": null,
      "metadata": {
        "id": "zC4e501f8_0L"
      },
      "outputs": [],
      "source": [
        "bp_predictions = lin_reg.predict(compounds)\n",
        "bp_predictions[:5]"
      ]
    },
    {
      "cell_type": "code",
      "execution_count": null,
      "metadata": {
        "id": "Ch8XUlyP8_0L"
      },
      "outputs": [],
      "source": [
        "bps.iloc[:5]"
      ]
    },
    {
      "cell_type": "code",
      "execution_count": null,
      "metadata": {
        "id": "eZ7LGgFx8_0M"
      },
      "outputs": [],
      "source": [
        "from sklearn.metrics import root_mean_squared_error\n",
        "lin_rmse = root_mean_squared_error(bps, bp_predictions)\n",
        "lin_rmse"
      ]
    },
    {
      "cell_type": "code",
      "execution_count": null,
      "metadata": {
        "id": "cY4GGOEv8_0N"
      },
      "outputs": [],
      "source": [
        "plot_fun(bps, bp_predictions, 'Linear Regression')"
      ]
    },
    {
      "cell_type": "markdown",
      "metadata": {
        "id": "tELdRw0I8_0O"
      },
      "source": [
        "### Cross-Validation"
      ]
    },
    {
      "cell_type": "code",
      "execution_count": null,
      "metadata": {
        "id": "YVnP3CiP8_0O"
      },
      "outputs": [],
      "source": [
        "from sklearn.model_selection import cross_val_score\n",
        "\n",
        "lin_rmses = -cross_val_score(lin_reg, compounds, bps,\n",
        "                            scoring=\"neg_root_mean_squared_error\", cv=10)"
      ]
    },
    {
      "cell_type": "code",
      "execution_count": null,
      "metadata": {
        "id": "DyjfPO668_0P"
      },
      "outputs": [],
      "source": [
        "lin_rmses"
      ]
    },
    {
      "cell_type": "code",
      "execution_count": null,
      "metadata": {
        "id": "ako-nWUe8_0P"
      },
      "outputs": [],
      "source": [
        "pd.Series(lin_rmses).describe()"
      ]
    },
    {
      "cell_type": "markdown",
      "metadata": {
        "id": "rbXXDB298_0Q"
      },
      "source": [
        "## Decision Tree"
      ]
    },
    {
      "cell_type": "code",
      "execution_count": null,
      "metadata": {
        "id": "6PsOIMf_8_0R"
      },
      "outputs": [],
      "source": [
        "from sklearn.tree import DecisionTreeRegressor\n",
        "\n",
        "tree_reg = make_pipeline(preprocessing, DecisionTreeRegressor(random_state=42))\n",
        "tree_reg.fit(compounds, bps)"
      ]
    },
    {
      "cell_type": "code",
      "execution_count": null,
      "metadata": {
        "id": "Qil2NO6_8_0S"
      },
      "outputs": [],
      "source": [
        "bp_predictions = tree_reg.predict(compounds)\n",
        "tree_rmse = root_mean_squared_error(bps, bp_predictions)\n",
        "tree_rmse"
      ]
    },
    {
      "cell_type": "code",
      "execution_count": null,
      "metadata": {
        "id": "OLUkdhMl8_0S"
      },
      "outputs": [],
      "source": [
        "plot_fun(bps, bp_predictions, 'Decision Tree')"
      ]
    },
    {
      "cell_type": "markdown",
      "metadata": {
        "id": "6hEoZnGj8_0T"
      },
      "source": [
        "### Cross-Validation"
      ]
    },
    {
      "cell_type": "code",
      "execution_count": null,
      "metadata": {
        "id": "TV3I9hMg8_0U"
      },
      "outputs": [],
      "source": [
        "tree_rmses = -cross_val_score(tree_reg, compounds, bps,\n",
        "                            scoring=\"neg_root_mean_squared_error\", cv=10)"
      ]
    },
    {
      "cell_type": "code",
      "execution_count": null,
      "metadata": {
        "id": "SO9YBV7T8_0V"
      },
      "outputs": [],
      "source": [
        "tree_rmses"
      ]
    },
    {
      "cell_type": "code",
      "execution_count": null,
      "metadata": {
        "id": "d13uExUp8_0V"
      },
      "outputs": [],
      "source": [
        "pd.Series(tree_rmses).describe()"
      ]
    },
    {
      "cell_type": "markdown",
      "metadata": {
        "id": "5CZ0nhC-8_0W"
      },
      "source": [
        "## Random Forest"
      ]
    },
    {
      "cell_type": "code",
      "execution_count": null,
      "metadata": {
        "id": "dOy_4P968_0X"
      },
      "outputs": [],
      "source": [
        "from sklearn.ensemble import RandomForestRegressor\n",
        "\n",
        "forest_reg = make_pipeline(preprocessing,\n",
        "                       RandomForestRegressor(random_state=42))\n",
        "\n",
        "forest_reg.fit(compounds, bps)\n",
        "\n",
        "bp_predictions = forest_reg.predict(compounds)\n",
        "\n",
        "forest_rmses = -cross_val_score(forest_reg, compounds, bps,\n",
        "                            scoring=\"neg_root_mean_squared_error\", cv=10)"
      ]
    },
    {
      "cell_type": "code",
      "execution_count": null,
      "metadata": {
        "id": "-t_ZPHTh8_0X"
      },
      "outputs": [],
      "source": [
        "pd.Series(forest_rmses).describe()"
      ]
    },
    {
      "cell_type": "code",
      "execution_count": null,
      "metadata": {
        "id": "yXZKtVNh8_0Y"
      },
      "outputs": [],
      "source": [
        "plot_fun(bps, bp_predictions, 'Random Forest')"
      ]
    },
    {
      "cell_type": "markdown",
      "metadata": {
        "id": "q4BaU3558_0Y"
      },
      "source": [
        "### Feature Importance"
      ]
    },
    {
      "cell_type": "code",
      "execution_count": null,
      "metadata": {
        "id": "ZK5k7NtA8_0Y"
      },
      "outputs": [],
      "source": [
        "feature_importances = forest_reg['randomforestregressor'].feature_importances_\n",
        "feature_names = preprocessing.get_feature_names_out()"
      ]
    },
    {
      "cell_type": "code",
      "execution_count": null,
      "metadata": {
        "id": "SiuAV2GL8_0Z"
      },
      "outputs": [],
      "source": [
        "barh(feature_names, feature_importances)"
      ]
    },
    {
      "cell_type": "markdown",
      "metadata": {
        "id": "hapZBaww8_0Z"
      },
      "source": [
        "## Compare to Test Data"
      ]
    },
    {
      "cell_type": "code",
      "execution_count": null,
      "metadata": {
        "id": "DYoasxeV8_0a"
      },
      "outputs": [],
      "source": [
        "test_bps = test_set['BoilingPoint'].copy()\n",
        "test_predictions = forest_reg.predict(test_set)"
      ]
    },
    {
      "cell_type": "code",
      "execution_count": null,
      "metadata": {
        "id": "z3bNg48J8_0a"
      },
      "outputs": [],
      "source": [
        "plot_fun(test_bps, test_predictions, 'Random Forest - Test Set')"
      ]
    },
    {
      "cell_type": "code",
      "execution_count": null,
      "metadata": {
        "id": "hBifLsPY8_0b"
      },
      "outputs": [],
      "source": [
        "final_rmse = root_mean_squared_error(test_bps, test_predictions)\n",
        "print(final_rmse)"
      ]
    },
    {
      "cell_type": "markdown",
      "metadata": {
        "id": "n3kQYbum8_0b"
      },
      "source": [
        "## Neural Network\n",
        "Referred to as a Multi-layer Perceptron (MLP) in Scikit-learn"
      ]
    },
    {
      "cell_type": "code",
      "execution_count": null,
      "metadata": {
        "id": "iworXFW38_0c"
      },
      "outputs": [],
      "source": [
        "from sklearn.neural_network import MLPRegressor"
      ]
    },
    {
      "cell_type": "code",
      "execution_count": null,
      "metadata": {
        "id": "CxRZ5m218_0c"
      },
      "outputs": [],
      "source": [
        "mlp_regressor = MLPRegressor(solver='lbfgs', max_iter=1000)\n",
        "\n",
        "MLP_reg = make_pipeline(preprocessing, mlp_regressor )\n",
        "MLP_reg.fit(compounds, bps)\n",
        "\n",
        "bp_predictions = MLP_reg.predict(compounds)\n",
        "\n",
        "MLP_rmses = -cross_val_score(MLP_reg, compounds, bps,\n",
        "                            scoring=\"neg_root_mean_squared_error\", cv=10)"
      ]
    },
    {
      "cell_type": "code",
      "execution_count": null,
      "metadata": {
        "id": "KpHrl3TA8_0d"
      },
      "outputs": [],
      "source": [
        "pd.Series(MLP_rmses).describe()"
      ]
    },
    {
      "cell_type": "code",
      "execution_count": null,
      "metadata": {
        "id": "GeFYuzH78_0d"
      },
      "outputs": [],
      "source": [
        "plot(bps, bp_predictions,'o')\n",
        "plot(bps,bps)\n",
        "axis('square')\n",
        "xlabel('Boiling Point')\n",
        "ylabel('Predicted Boiling Point')\n",
        "title('Random Forest')\n",
        "show()"
      ]
    },
    {
      "cell_type": "code",
      "execution_count": null,
      "metadata": {
        "id": "DFUSVTWr8_0e"
      },
      "outputs": [],
      "source": []
    }
  ],
  "metadata": {
    "colab": {
      "provenance": []
    },
    "hide_input": false,
    "jupytext": {
      "formats": "ipynb,auto:percent"
    },
    "kernel_info": {
      "name": "python3"
    },
    "kernelspec": {
      "display_name": "python 3.12\n\n",
      "language": "python",
      "name": "python3.12"
    },
    "language_info": {
      "codemirror_mode": {
        "name": "ipython",
        "version": 3
      },
      "file_extension": ".py",
      "mimetype": "text/x-python",
      "name": "python",
      "nbconvert_exporter": "python",
      "pygments_lexer": "ipython3",
      "version": "3.12.7"
    },
    "nteract": {
      "version": "0.22.4"
    },
    "toc": {
      "base_numbering": 1,
      "nav_menu": {},
      "number_sections": false,
      "sideBar": true,
      "skip_h1_title": false,
      "title_cell": "Table of Contents",
      "title_sidebar": "Contents",
      "toc_cell": false,
      "toc_position": {},
      "toc_section_display": "block",
      "toc_window_display": false
    },
    "varInspector": {
      "cols": {
        "lenName": 16,
        "lenType": 16,
        "lenVar": 40
      },
      "kernels_config": {
        "python": {
          "delete_cmd_postfix": "",
          "delete_cmd_prefix": "del ",
          "library": "var_list.py",
          "varRefreshCmd": "print(var_dic_list())"
        },
        "r": {
          "delete_cmd_postfix": ") ",
          "delete_cmd_prefix": "rm(",
          "library": "var_list.r",
          "varRefreshCmd": "cat(var_dic_list()) "
        }
      },
      "types_to_exclude": [
        "module",
        "function",
        "builtin_function_or_method",
        "instance",
        "_Feature"
      ],
      "window_display": false
    }
  },
  "nbformat": 4,
  "nbformat_minor": 0
}